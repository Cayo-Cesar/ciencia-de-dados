{
 "cells": [
  {
   "cell_type": "markdown",
   "metadata": {},
   "source": [
    "---\n",
    "title: \"Introdução teórica\"\n",
    "order: 141\n",
    "execute:\n",
    "  enabled: true\n",
    "---\n",
    "\n",
    "\n",
    "Boas-vindas ao nosso primeiro Notebook IPython/Jupyter.\n",
    "O objetivo deste documento é apresentar alguns conceitos fundamentais para abrirmos as práticas da disciplina.\n",
    "\n",
    "Embora seja possível ler este e outros _notebooks_ no _site_ da disciplina, a minha recomendação é que o arquivo `.ipynb` seja baixado e executado na sua máquina (ou em algum serviço como o Colab) para que a experiência seja realmente interativa.\n",
    "No _site_, você deve encontrar uma versão, compilada em HTML pela ferramenta Quarto,^[<https://quarto.org>] na qual várias formatações em Markdown,^[<https://en.wikipedia.org/wiki/Markdown>] específicas dessa ferramenta, são usadas pra melhorar a experiência de leitura, mas que não fazem muita diferença pra quem for executar o _notebook_ interativamente."
   ]
  },
  {
   "cell_type": "markdown",
   "metadata": {},
   "source": [
    "## Notebooks\n",
    "\n",
    "Primeiramente, um _notebook_ nada mais é do que um arquivo de texto em formato JSON^[<https://en.wikipedia.org/wiki/JSON>] que guarda uma lista de objetos.\n",
    "Cada objeto dessa lista representa uma célula de conteúdo do *notebook*.\n",
    "Por exemplo, estas presentes letrinhas, que com a luz dos olhos teus resolvem se encontrar, estão dentro de uma célula de texto em formato Markdown, como podemos ver abaixo."
   ]
  },
  {
   "cell_type": "code",
   "execution_count": 1,
   "metadata": {},
   "outputs": [],
   "source": [
    "# | echo: false\n",
    "# sobe o diretório se executado como notebook\n",
    "import os\n",
    "if os.environ.get(\"QUARTO_PROJECT_ROOT\") is None:\n",
    "    os.chdir(os.path.join(os.getcwd(), \"..\"))"
   ]
  },
  {
   "cell_type": "code",
   "execution_count": 2,
   "metadata": {},
   "outputs": [
    {
     "name": "stdout",
     "output_type": "stream",
     "text": [
      "{'cell_type': 'markdown', 'metadata': {}, 'source': ['## Notebooks\\n', '\\n', 'Primeiramente, um _notebook_ nada mais é do que um arquivo de texto em formato JSON^[<https://en.wikipedia.org/wiki/JSON>] que guarda uma lista de objetos.\\n', 'Cada objeto dessa lista representa uma célula de conteúdo do *notebook*.\\n', 'Por exemplo, estas presentes letrinhas, que com a luz dos olhos teus resolvem se encontrar, estão dentro de uma célula de texto em formato Markdown, como podemos ver abaixo.']}\n"
     ]
    }
   ],
   "source": [
    "with open(\"notebooks/14_introducao.ipynb\") as nb_file:\n",
    "    import json\n",
    "    nb = json.load(nb_file)\n",
    "    print(nb[\"cells\"][1])"
   ]
  },
  {
   "cell_type": "markdown",
   "metadata": {},
   "source": [
    "E como você pode ver, a célula acima (e a logo abaixo) contém textos na sintaxe de Python.\n",
    "O legal sobre essas células com Python é que elas são executáveis quando o *notebook* é aberto por um programa que saiba interpretá-lo."
   ]
  },
  {
   "cell_type": "code",
   "execution_count": 3,
   "metadata": {},
   "outputs": [
    {
     "name": "stdout",
     "output_type": "stream",
     "text": [
      "Você deve ver o resultado desta chamada a print num espaço pra saídas logo abaixo.\n"
     ]
    }
   ],
   "source": [
    "print(\"Você deve ver o resultado desta chamada \"\n",
    "      \"a print num espaço pra saídas logo abaixo.\")"
   ]
  },
  {
   "cell_type": "markdown",
   "metadata": {},
   "source": [
    "Quem já conhece a função `print` de Python deve lembrar que ela redireciona seus argumentos de entrada como um texto a ser exibido na saída padrão do processo Python em execução.\n",
    "No entanto, aqui podemos ver essa saída diretamente no _notebook_.\n",
    "Isso é possível graças a uma mágica desse programa que executa os *notebooks* e, em geral, essa mágica leva o nome de IPython.^[<https://ipython.org>]"
   ]
  },
  {
   "cell_type": "markdown",
   "metadata": {},
   "source": [
    "## IPython\n",
    "\n",
    "De forma resumida, o IPython é uma versão melhorada e mais interativa da _shell_^[<https://en.wikipedia.org/wiki/Shell_(computing)>] do Python.\n",
    "Originalmente, o projeto IPython tinha como objetivo prover um ambiente interativo para computação científica usando a linguagem Python [@perez:2007:ipython].\n",
    "Ou seja, os *notebooks* IPython são uma combinação de células em linguagem de marcação com células em Python que são executadas pela *shell* do IPython.\n",
    "\n",
    "Com o tempo, a popularidade e o escopo do projeto cresceram, os *notebooks* evoluíram para serem agnósticos em linguagem de programação, o que resultou no projeto Jupyter.^[<https://jupyter.org/about>]\n",
    "No Jupyter, o que determina se a linguagem de programação pode ser executada no *notebook* é um processo independente chamado de *kernel*.^[<https://docs.jupyter.org/en/stable/projects/kernels.html>]\n",
    "Hoje em dia, é possível escrever _notebooks_ Jupyter que usem diversas outras linguagens como Julia, R, Scala, etc, e quando a linguagem escolhida for Python, provavelmente se usará um *kernel* IPython.\n",
    "\n",
    "Para uma visão prática das melhorias implementadas pelo IPython, indico o primeiro capítulo de @vanderplas:2016:python."
   ]
  },
  {
   "cell_type": "markdown",
   "metadata": {},
   "source": [
    "## Computação científica\n",
    "\n",
    "Mas o que significa \"computação científica\"?^[<https://scicomp.rptu.de/about/scientific-computing>]\n",
    "Segundo @golub:1992:scientific, trata-se da coleção de ferramentas, técnicas e teorias necessárias para resolver, por meio de computadores, modelos matemáticos de problemas das ciências e engenharias.\n",
    "Ou seja, uma aplicação da ciência da computação a problemas científicos e que tem muito a ver com ciência de dados."
   ]
  }
 ],
 "metadata": {
  "kernelspec": {
   "display_name": ".venv",
   "language": "python",
   "name": "python3"
  },
  "language_info": {
   "codemirror_mode": {
    "name": "ipython",
    "version": 3
   },
   "file_extension": ".py",
   "mimetype": "text/x-python",
   "name": "python",
   "nbconvert_exporter": "python",
   "pygments_lexer": "ipython3",
   "version": "3.10.12"
  }
 },
 "nbformat": 4,
 "nbformat_minor": 2
}
